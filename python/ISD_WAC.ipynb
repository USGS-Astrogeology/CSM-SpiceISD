{
 "cells": [
  {
   "cell_type": "code",
   "execution_count": 332,
   "metadata": {
    "collapsed": false
   },
   "outputs": [],
   "source": [
    "import json\n",
    "import math\n",
    "\n",
    "import numpy as np\n",
    "import pvl\n",
    "import spiceypy as spice\n"
   ]
  },
  {
   "cell_type": "code",
   "execution_count": 333,
   "metadata": {
    "collapsed": true
   },
   "outputs": [],
   "source": [
    "# Utility Func\n",
    "def find_in_dict(obj, key):\n",
    "    \"\"\"\n",
    "    Recursively find an entry in a dictionary\n",
    "\n",
    "    Parameters\n",
    "    ----------\n",
    "    obj : dict\n",
    "          The dictionary to search\n",
    "    key : str\n",
    "          The key to find in the dictionary\n",
    "\n",
    "    Returns\n",
    "    -------\n",
    "    item : obj\n",
    "           The value from the dictionary\n",
    "    \"\"\"\n",
    "    if key in obj:\n",
    "        return obj[key]\n",
    "    for k, v in obj.items():\n",
    "        if isinstance(v,dict):\n",
    "            item = find_in_dict(v, key)\n",
    "            if item is not None:\n",
    "                return item"
   ]
  },
  {
   "cell_type": "code",
   "execution_count": 334,
   "metadata": {
    "collapsed": false
   },
   "outputs": [],
   "source": [
    "# Furnish the IK Kernel\n",
    "# spice.furnsh(\"../../tests/data/msgr_mdis_v160.ti\")\n",
    "# ikid = 236820\n",
    "\n",
    "# spice.furnsh('../../tests/data/msgr_v231.tf')  # Frames Kernel mapping between frames\n",
    "# spice.furnsh('../../tests/data/pck00010_msgr_v23.tpc')  # PC Kernel with planetary attitude and body information\n",
    "# spice.furnsh('../../tests/data/msgr_dyn_v600.tf')\n",
    "\n",
    "# spice.furnsh('../../tests/data/msgr_de405_de423s.bsp')\n",
    "# spice.furnsh('../../tests/data/msgr_040803_150430_150430_od431sc_2.bsp')\n",
    "\n",
    "# spice.furnsh('../../tests/data/msgr_mdis_sc050727_100302_sub_v1.bc')\n",
    "# spice.furnsh('../../tests/data/msgr_mdis_gm040819_150430v1.bc')  # MDIS Instrument Pointing (236890)\n",
    "# spice.furnsh('../../tests/data/msgr_1304_v02.bc')  #Bus and Spacecraft Panels position\n",
    "\n",
    "# spice.furnsh('../../tests/data/naif0011.tls')\n",
    "# spice.furnsh('../../tests/data/messenger_2548.tsc')\n",
    "\n",
    "ikid = 236800\n",
    "msgr = \"/usgs/cpkgs/isis3/data/messenger/\"\n",
    "# Load kernels same order ISIS Spice::init() does\n",
    "# Frame\n",
    "# TargetAttitudeShape\n",
    "spice.furnsh(msgr+\"kernels/pck/pck00010_msgr_v23.tpc\")\n",
    "# Instrument\n",
    "spice.furnsh(msgr+\"kernels/ik/msgr_mdis_v160.ti\")\n",
    "# InstrumentAddendum\n",
    "spice.furnsh(msgr+\"kernels/iak/mdisAddendum009.ti\")\n",
    "# LeapSecond\n",
    "spice.furnsh(\"/usgs/cpkgs/isis3/data/base/kernels/lsk/naif0012.tls\")\n",
    "# SpacecraftClock\n",
    "spice.furnsh(msgr+\"kernels/sclk/messenger_2548.tsc\")\n",
    "# Extra\n",
    "# TargetPosition\n",
    "spice.furnsh(msgr+\"kernels/tspk/de423s.bsp\")\n",
    "# InstrumentPointing\n",
    "spice.furnsh(msgr+\"kernels/ck/msgr20150409.bc\")\n",
    "spice.furnsh(msgr+\"kernels/ck/msgr20150410.bc\")\n",
    "spice.furnsh(msgr+\"kernels/ck/msgr20150411.bc\")\n",
    "spice.furnsh(msgr+\"kernels/ck/msgr20150412.bc\")\n",
    "spice.furnsh(msgr+\"kernels/ck/msgr20150413.bc\")\n",
    "spice.furnsh(msgr+\"kernels/ck/msgr20150414.bc\")\n",
    "spice.furnsh(msgr+\"kernels/ck/msgr20150415.bc\")\n",
    "spice.furnsh(msgr+\"kernels/ck/msgr20150416.bc\")\n",
    "spice.furnsh(msgr+\"kernels/ck/1072683119_1965_mdis_atthist.bc\")\n",
    "spice.furnsh(msgr+\"kernels/ck/1072716050_291010_mdis_pivot_pvtres.bc\")\n",
    "spice.furnsh(msgr+\"kernels/fk/msgr_v231.tf\")\n",
    "# InstrumentPosition\n",
    "spice.furnsh(msgr+\"kernels/spk/msgr_20040803_20150430_od431sc_2.bsp\")\n"
   ]
  },
  {
   "cell_type": "raw",
   "metadata": {
    "collapsed": false
   },
   "source": [
    "res = spice.ckobj(msgr+\"kernels/ck/msgr20150414.bc\")\n",
    "for i in res:\n",
    "    print(i)\n",
    "print()\n",
    "\n",
    "res = spice.spkobj(msgr+\"kernels/spk/msgr_20040803_20150430_od431sc_2.bsp\")\n",
    "for i in res:\n",
    "    print(i)\n",
    "print()  \n",
    "    \n",
    "res = spice.ckobj('tests/data//msgr_1304_v02.bc')\n",
    "for i in res:\n",
    "    print(i)"
   ]
  },
  {
   "cell_type": "raw",
   "metadata": {
    "collapsed": false
   },
   "source": [
    "spice.bodn2c('MESSENGER')"
   ]
  },
  {
   "cell_type": "code",
   "execution_count": 335,
   "metadata": {
    "collapsed": false
   },
   "outputs": [],
   "source": [
    "# Create the ISD object\n",
    "isd = {}\n",
    "\n",
    "# Load information from the IK kernel\n",
    "isd['focal_length'] = spice.gdpool('INS-{}_FOCAL_LENGTH'.format(ikid), 0, 1)\n",
    "isd['focal_length_epsilon'] = spice.gdpool('INS-{}_FL_UNCERTAINTY'.format(ikid), 0, 1)\n",
    "isd['nlines'] = spice.gipool('INS-{}_PIXEL_LINES'.format(ikid), 0, 1)\n",
    "isd['nsamples'] = spice.gipool('INS-{}_PIXEL_SAMPLES'.format(ikid), 0, 1)\n",
    "isd['original_half_lines'] = isd['nlines'] / 2.0\n",
    "isd['original_half_samples'] = isd['nsamples'] / 2.0\n",
    "isd['pixel_pitch'] = spice.gdpool('INS-{}_PIXEL_PITCH'.format(ikid), 0, 1)\n",
    "isd['ccd_center'] = spice.gdpool('INS-{}_CCD_CENTER'.format(ikid), 0, 2)\n",
    "isd['ifov'] = spice.gdpool('INS-{}_IFOV'.format(ikid), 0, 1)\n",
    "isd['boresight'] = spice.gdpool('INS-{}_BORESIGHT'.format(ikid), 0, 3)\n",
    "isd['transx'] = spice.gdpool('INS-{}_TRANSX'.format(ikid), 0, 3)\n",
    "isd['transy'] = spice.gdpool('INS-{}_TRANSY'.format(ikid), 0, 3)\n",
    "isd['itrans_sample'] = spice.gdpool('INS-{}_ITRANSS'.format(ikid), 0, 3)\n",
    "isd['itrans_line'] = spice.gdpool('INS-{}_ITRANSL'.format(ikid), 0, 3)\n",
    "isd['odt_x'] = spice.gdpool('INS-{}_OD_T_X'.format(ikid), 0, 10)\n",
    "isd['odt_y'] = spice.gdpool('INS-{}_OD_T_Y'.format(ikid), 0, 10)\n",
    "isd['starting_detector_sample'] = spice.gdpool('INS-{}_FPUBIN_START_SAMPLE'.format(ikid), 0, 1)\n",
    "isd['starting_detector_line'] = spice.gdpool('INS-{}_FPUBIN_START_LINE'.format(ikid), 0, 1)\n"
   ]
  },
  {
   "cell_type": "markdown",
   "metadata": {},
   "source": [
    "What is the minimum information needed to convert to and from the MDIS-NAC frame?\n",
    "\n",
    "236: The code for the messenger spacecraft\n",
    "4: Indicates that the frame is a TK Frame\n",
    "236820: The code for the MDIS-NAC Frame\n"
   ]
  },
  {
   "cell_type": "code",
   "execution_count": 336,
   "metadata": {
    "collapsed": false
   },
   "outputs": [
    {
     "name": "stdout",
     "output_type": "stream",
     "text": [
      "(-236, 4, -236820)\n",
      "-236\n"
     ]
    }
   ],
   "source": [
    "# Type 4 is TK - the mdis-nac is constant w.r.t. another frame\n",
    "print(spice.frinfo(-236820))\n",
    "\n",
    "# Verify that this is messenger\n",
    "print(spice.bods2c('MESSENGER'))"
   ]
  },
  {
   "cell_type": "code",
   "execution_count": 337,
   "metadata": {
    "collapsed": true
   },
   "outputs": [],
   "source": [
    "\n",
    "\n",
    "def distort_focal_length(coeffs, t):\n",
    "    \"\"\"\n",
    "    Compute the distorted focal length\n",
    "    \n",
    "    Parameters\n",
    "    ----------\n",
    "    coeffs : iterable\n",
    "             of coefficient values\n",
    "    t : float\n",
    "        temperature in C\n",
    "        \n",
    "    Returns\n",
    "    -------\n",
    "    focal_length : float\n",
    "                   the temperature adjusted focal length\n",
    "    \"\"\"\n",
    "    focal_length = coeffs[0]\n",
    "    for i in range(1, len(coeffs[1:])):\n",
    "        focal_length += coeffs[i]*t**i\n",
    "    return focal_length\n",
    "\n"
   ]
  },
  {
   "cell_type": "code",
   "execution_count": 338,
   "metadata": {
    "collapsed": false
   },
   "outputs": [],
   "source": [
    "# Load the ISIS Cube header\n",
    "# header = pvl.load('../../tests/data/EN1007907102M.cub')\n",
    "header = pvl.load(\"../../tests/data/CW1071364100B_IU_5.cub\")\n",
    "\n",
    "isd['instrument_id'] = find_in_dict(header, 'InstrumentId')\n",
    "isd['spacecraft_name'] = find_in_dict(header, 'SpacecraftName')\n",
    "isd['target_name'] = find_in_dict(header, 'TargetName')\n",
    "filter_num = find_in_dict(header, 'OriginalFilterNumber')\n",
    "ikid += filter_num\n",
    "\n",
    "# Get the radii from SPICE\n",
    "rad = spice.bodvrd(isd['target_name'], 'RADII', 3)\n",
    "radii = rad[1]\n",
    "isd['semi_major_axis'] = rad[1][0]\n",
    "isd['semi_minor_axis'] = rad[1][1]\n",
    "\n",
    "\n",
    "# Get temperature from SPICE and adjust focal length\n",
    "spice.gdpool('INS-{}_FOCAL_LENGTH'.format(ikid), 0, 1)\n",
    "temp_coeffs = spice.gdpool('INS-{}_FL_TEMP_COEFFS'.format(ikid), 0, 6)\n",
    "temp = find_in_dict(header, 'FocalPlaneTemperature').value\n",
    "isd['focal_length'] = distort_focal_length(temp_coeffs, temp)\n"
   ]
  },
  {
   "cell_type": "raw",
   "metadata": {},
   "source": [
    "print(isd['semi_major_axis'])\n",
    "print(isd['semi_minor_axis'])"
   ]
  },
  {
   "cell_type": "markdown",
   "metadata": {},
   "source": [
    "Now we need to compute time. - This has been verified as correct using campt."
   ]
  },
  {
   "cell_type": "code",
   "execution_count": 339,
   "metadata": {
    "collapsed": false
   },
   "outputs": [],
   "source": [
    "# Here convert the sclock\n",
    "sclock = find_in_dict(header, 'SpacecraftClockCount')\n",
    "exposure_duration = find_in_dict(header, 'ExposureDuration')\n",
    "exposure_duration = exposure_duration.value * 0.001  # Scale to seconds\n",
    "\n",
    "# Get the instrument id, and, since this is a framer, set the time to the middle of the exposure\n",
    "spacecraft_id = spice.bods2c('MESSENGER')\n",
    "et = spice.scs2e(spacecraft_id, sclock)\n",
    "et += (exposure_duration / 2.0)\n",
    "\n",
    "isd['ephemeris_time'] = et"
   ]
  },
  {
   "cell_type": "markdown",
   "metadata": {},
   "source": [
    "This is almost identical to ISIS3.  Verified using campt."
   ]
  },
  {
   "cell_type": "code",
   "execution_count": 340,
   "metadata": {
    "collapsed": false,
    "scrolled": false
   },
   "outputs": [
    {
     "name": "stdout",
     "output_type": "stream",
     "text": [
      "Spacecraft in J2000:\n",
      "\t192.202589339795310\n",
      "\t875.338571242037574\n",
      "\t-2607.874128811506125\n",
      "Spacecraft in MERCURY:\n",
      "\t-28.892889786233809\n",
      "\t-633.940116378508037\n",
      "\t-2683.552133114456865\n",
      "Spacecraft direct spkpos in Mercury frame:\n",
      "\t-28.892882554952052\n",
      "\t-633.940116708086407\n",
      "\t-2683.552133114456410\n"
     ]
    }
   ],
   "source": [
    "# This needs to be sensor origin - like the comment below says...\n",
    "# This is almost there - position w.r.t. the spacecraft, but not the camera yet.\n",
    "loc_j2000, ltc = spice.spkpos(isd['target_name'], isd['ephemeris_time'], 'J2000', 'LT+S', 'MESSENGER')\n",
    "loc_j2000\n",
    "print(\"Spacecraft in J2000:\\n\\t{0:.15f}\\n\\t{1:.15f}\\n\\t{2:.15f}\".format(loc_j2000[0], loc_j2000[1], loc_j2000[2]))\n",
    "j2000_to_mercury = spice.pxform('J2000', 'IAU_MERCURY', isd['ephemeris_time'])\n",
    "loc_mercury = spice.mxv(j2000_to_mercury, loc_j2000)\n",
    "print(\"Spacecraft in MERCURY:\\n\\t{0:.15f}\\n\\t{1:.15f}\\n\\t{2:.15f}\".format(loc_mercury[0], loc_mercury[1], loc_mercury[2]))\n",
    "\n",
    "# Direct to Mercury body-fixed position is slightly (neglibly) off (campt SpacecraftPosition)\n",
    "loc_direct, lt_direct = spice.spkpos(isd['target_name'], isd['ephemeris_time'], 'IAU_MERCURY', 'LT+S', 'MESSENGER')\n",
    "print(\"Spacecraft direct spkpos in Mercury frame:\")\n",
    "loc_direct\n",
    "print(\"\\t{0:.15f}\\n\\t{1:.15f}\\n\\t{2:.15f}\".format(loc_direct[0], loc_direct[1], loc_direct[2]))\n",
    "# Try to compare with the spkez routine\n",
    "#loc_ez, ltc_ez = spice.spkez(199, isd['ephemeris_time'], 'IAU_MERCURY', 'LT+S', -236)\n",
    "#print(\"{0:.15f} \\n{1:.15f} \\n{2:.15f}\".format(loc_ez[0], loc_ez[1], loc_ez[2]))"
   ]
  },
  {
   "cell_type": "raw",
   "metadata": {},
   "source": [
    "ISIS Spice reporting of J2000:\n",
    "et:          482312178.16084\n",
    "j2000 Xs:    -192.202589339795\n",
    "j2000 Ys:    -875.338571242038\n",
    "j2000 Zs:    2607.87412881151\n",
    "\n",
    "ISIS (campt SpacecraftPosition):\n",
    "28.892889786234,\n",
    "633.94011637851,\n",
    "2683.5521331145 (km)"
   ]
  },
  {
   "cell_type": "code",
   "execution_count": 351,
   "metadata": {
    "collapsed": false
   },
   "outputs": [
    {
     "name": "stdout",
     "output_type": "stream",
     "text": [
      "[  -28.85902199  -633.93866306 -2683.30426662]\n"
     ]
    }
   ],
   "source": [
    "loc, ltc = spice.spkpos(isd['target_name'], isd['ephemeris_time'], 'J2000', 'LT+S', 'MESSENGER')\n",
    "# Transform from J2000 to IAU_MERCURY (body-fixed) frame\n",
    "rotation = spice.pxform('J2000', 'IAU_MERCURY', isd['ephemeris_time'])\n",
    "loc = spice.mxv(rotation, loc)\n",
    "isd['x_sensor_origin'] = loc[0]  * -1000\n",
    "isd['y_sensor_origin'] = loc[1]  * -1000\n",
    "isd['z_sensor_origin'] = loc[2]  * -1000"
   ]
  },
  {
   "cell_type": "code",
   "execution_count": 342,
   "metadata": {
    "collapsed": false
   },
   "outputs": [
    {
     "name": "stdout",
     "output_type": "stream",
     "text": [
      "28892.889786233808991\n",
      "633940.116378508042544\n",
      "2683552.133114456664771\n"
     ]
    }
   ],
   "source": [
    "print(\"{0:.15f}\".format(isd['x_sensor_origin']))\n",
    "print(\"{0:.15f}\".format(isd['y_sensor_origin']))\n",
    "print(\"{0:.15f}\".format(isd['z_sensor_origin']))"
   ]
  },
  {
   "cell_type": "code",
   "execution_count": 343,
   "metadata": {
    "collapsed": false
   },
   "outputs": [],
   "source": [
    "# Get the camera position in lat, lon, height\n",
    "# lat/lon are in raddians\n",
    "_, radii = spice.bodvrd(\"MERCURY\", \"RADII\", 3)\n",
    "radii *= 1000\n",
    "flattening = (radii[0] - radii[2]) / radii[0]\n",
    "lon, lat, height = spice.recgeo(loc * 1000, radii[0], flattening)\n",
    "\n",
    "# Can I use X, Y, Z body fixed in meters, or do I need to use lat, lon, height\n",
    "# in rectangular coordinates?\n",
    "#isd['x_sensor_origin'] = lon\n",
    "#isd['y_sensor_origin'] = lat\n",
    "#isd['z_sensor_origin'] = height"
   ]
  },
  {
   "cell_type": "code",
   "execution_count": 344,
   "metadata": {
    "collapsed": false
   },
   "outputs": [
    {
     "name": "stdout",
     "output_type": "stream",
     "text": [
      "(-3.072868243248164, 0.3032857092051579, 2.9059307323725254)\n"
     ]
    }
   ],
   "source": [
    "# This needs to go from object space to image space - right now, it goes from object space (Mercury)\n",
    "# to sensor position space (MDIS_NAC)\n",
    "# camera2bodyfixed = spice.pxform('MSGR_MDIS_NAC', 'IAU_MERCURY', isd['ephemeris_time'])\n",
    "camera2bodyfixed = spice.pxform('MSGR_MDIS_WAC', 'IAU_MERCURY', isd['ephemeris_time'])\n",
    "camopk = spice.m2eul(camera2bodyfixed, 3, 2, 1)\n",
    "\n",
    "isd['omega'] = camopk[2]\n",
    "isd['phi'] = camopk[1]\n",
    "isd['kappa'] = camopk[0]\n",
    "\n",
    "print(camopk)\n",
    "\n",
    "# Rotation around Y, Z from camera to focal plane\n",
    "# focal = np.zeros((3,3))\n",
    "# focal[0][0] = 1\n",
    "# focal[1][1] = -1\n",
    "# focal[2][2] = -1\n",
    "# focalrot = spice.mxmt(focal, camera2bodyfixed) # np.dot().T\n",
    "\n",
    "# # Get the length of the vector\n",
    "# xyzlength = loc[0]**2 + loc[1]**2\n",
    "# xylength = math.sqrt(xyzlength)\n",
    "# xyzlength = math.sqrt(xyzlength + loc[2]**2)\n",
    "\n",
    "# slon = loc[1] / xylength\n",
    "# clon = loc[0] / xylength\n",
    "# slat = loc[2] / xyzlength\n",
    "# clat = xylength / xyzlength\n",
    "\n",
    "# #Ocentric to ographic rotation\n",
    "# oo = np.zeros((3,3))\n",
    "# oo[:,0] = -slon, clon, 0.0\n",
    "# oo[:,1] = -slat * clon, -slat * slon, clat\n",
    "# oo[:,2] = clat*clon, clat*slon, slat\n",
    "\n",
    "# rot = spice.mxm(focalrot, oo)  # np.dot\n",
    "# print(rot)\n",
    "# opk = spice.m2eul(rot, 3, 2, 1)\n",
    "# print(opk)\n",
    "# print(list(map(math.degrees, opk)))\n",
    "\n",
    "#isd['omega'] = opk[2]\n",
    "#isd['phi'] = opk[1]\n",
    "#isd['kappa'] = opk[0]"
   ]
  },
  {
   "cell_type": "code",
   "execution_count": 345,
   "metadata": {
    "collapsed": false
   },
   "outputs": [
    {
     "data": {
      "text/plain": [
       "array([[-0.95210748, -0.00279567, -0.30575075],\n",
       "       [ 0.06553623,  0.97485322, -0.21299345],\n",
       "       [ 0.29865756, -0.22283041, -0.92798183]])"
      ]
     },
     "execution_count": 345,
     "metadata": {},
     "output_type": "execute_result"
    }
   ],
   "source": [
    "camera2bodyfixed"
   ]
  },
  {
   "cell_type": "code",
   "execution_count": null,
   "metadata": {
    "collapsed": true
   },
   "outputs": [],
   "source": [
    "# Get the sun's position relative to a Mercury-fixed frame.\n",
    "target = \"SUN\"\n",
    "et = isd['ephemeris_time']\n",
    "reference_frame = \"IAU_MERCURY\"\n",
    "light_time_correction = \"LT+S\"\n",
    "observer = \"MERCURY\"\n",
    "\n",
    "sun_state, lt = spice.spkezr(target,\n",
    "                             et,\n",
    "                             reference_frame,\n",
    "                             light_time_correction,\n",
    "                             observer)\n",
    "\n",
    "# Convert to meters\n",
    "isd['x_sun_position'] = sun_state[0] * 1000\n",
    "isd['y_sun_position'] = sun_state[1] * 1000\n",
    "isd['z_sun_position'] = sun_state[2] * 1000\n",
    "print(\"SUN POSITION (m): {} {} {}\".format(sun_state[0]*1000,\n",
    "                                          sun_state[1]*1000,\n",
    "                                          sun_state[2]*1000))\n",
    "\n",
    "# Get velocity of mdis nac (right now it is getting velocity of spacecraft)\n",
    "target = \"MESSENGER\"\n",
    "et = isd['ephemeris_time']\n",
    "reference_frame = \"IAU_MERCURY\"\n",
    "light_time_correction = \"LT+S\"\n",
    "observer = \"MERCURY\"\n",
    "messenger_state, lt = spice.spkezr(target,\n",
    "                                   et,\n",
    "                                   reference_frame,\n",
    "                                   light_time_correction,\n",
    "                                   observer)\n",
    "print(\"MESSENGER VELOCITY (m/s): {} {} {}\".format(messenger_state[3]*1000,\n",
    "                                                  messenger_state[4]*1000,\n",
    "                                                  messenger_state[5]*1000))\n",
    "\n",
    "v,_ = spice.spkezr(observer, et, reference_frame, light_time_correction, target)\n",
    "print(v)"
   ]
  },
  {
   "cell_type": "code",
   "execution_count": 346,
   "metadata": {
    "collapsed": false
   },
   "outputs": [],
   "source": [
    "#print(list(map(degrees,isd['omega'], isd['phi'], isd['kappa'])))"
   ]
  },
  {
   "cell_type": "code",
   "execution_count": 347,
   "metadata": {
    "collapsed": false
   },
   "outputs": [],
   "source": [
    "class NumpyAwareJSONEncoder(json.JSONEncoder):\n",
    "    def default(self, obj):\n",
    "        if isinstance(obj, np.ndarray) and obj.ndim == 1:\n",
    "            lobj = obj.tolist()\n",
    "            if len(lobj) == 1:\n",
    "                return lobj[0]\n",
    "            else:\n",
    "                return lobj\n",
    "        return json.JSONEncoder.default(self, obj)\n",
    "\n",
    "with open('isd.isd', 'w') as f:\n",
    "    f.write(json.dumps(isd, f, cls=NumpyAwareJSONEncoder, sort_keys=True, indent=4))"
   ]
  },
  {
   "cell_type": "code",
   "execution_count": 348,
   "metadata": {
    "collapsed": false
   },
   "outputs": [
    {
     "name": "stdout",
     "output_type": "stream",
     "text": [
      "{\r\n",
      "    \"boresight\": [\r\n",
      "        0.0,\r\n",
      "        0.0,\r\n",
      "        1.0\r\n",
      "    ],\r\n",
      "    \"ccd_center\": [\r\n",
      "        512.5,\r\n",
      "        512.5\r\n",
      "    ],\r\n",
      "    \"ephemeris_time\": 482312178.16084045,\r\n",
      "    \"focal_length\": 78.25197917515999,\r\n",
      "    \"focal_length_epsilon\": 0.15,\r\n",
      "    \"ifov\": 179.6,\r\n",
      "    \"instrument_id\": \"MDIS-WAC\",\r\n",
      "    \"itrans_line\": [\r\n",
      "        0.0,\r\n",
      "        -0.0006761060916520159,\r\n",
      "        71.4399371332522\r\n",
      "    ],\r\n",
      "    \"itrans_sample\": [\r\n",
      "        0.0,\r\n",
      "        71.42857143,\r\n",
      "        0.0\r\n",
      "    ],\r\n",
      "    \"kappa\": -3.072868243248164,\r\n",
      "    \"nlines\": 1024,\r\n",
      "    \"nsamples\": 1024,\r\n",
      "    \"odt_x\": [\r\n",
      "        0.0,\r\n",
      "        1.0,\r\n",
      "        0.0,\r\n",
      "        -7.720894252056575e-05,\r\n",
      "        3.599871902138938e-06,\r\n",
      "        0.0,\r\n",
      "        5.509035727272325e-06,\r\n",
      "        0.0,\r\n",
      "        5.509035727272406e-06,\r\n",
      "        0.0\r\n",
      "    ],\r\n",
      "    \"odt_y\": [\r\n",
      "        0.0,\r\n",
      "        0.0,\r\n",
      "        1.000000000026148,\r\n",
      "        0.0,\r\n",
      "        -7.720894252092194e-05,\r\n",
      "        3.599871782473616e-06,\r\n",
      "        0.0,\r\n",
      "        5.509035621941527e-06,\r\n",
      "        0.0,\r\n",
      "        5.5090308738198125e-06\r\n",
      "    ],\r\n",
      "    \"omega\": 2.9059307323725254,\r\n",
      "    \"original_half_lines\": 512.0,\r\n",
      "    \"original_half_samples\": 512.0,\r\n",
      "    \"phi\": 0.3032857092051579,\r\n",
      "    \"pixel_pitch\": 0.014,\r\n",
      "    \"semi_major_axis\": 2439.4,\r\n",
      "    \"semi_minor_axis\": 2439.4,\r\n",
      "    \"spacecraft_name\": \"Messenger\",\r\n",
      "    \"starting_detector_line\": 1.0,\r\n",
      "    \"starting_detector_sample\": 9.0,\r\n",
      "    \"target_name\": \"Mercury\",\r\n",
      "    \"transx\": [\r\n",
      "        0.0,\r\n",
      "        0.01399999999972,\r\n",
      "        0.0\r\n",
      "    ],\r\n",
      "    \"transy\": [\r\n",
      "        0.0,\r\n",
      "        1.32495711261385e-07,\r\n",
      "        0.013997772676294\r\n",
      "    ],\r\n",
      "    \"x_sensor_origin\": 28892.88978623381,\r\n",
      "    \"y_sensor_origin\": 633940.116378508,\r\n",
      "    \"z_sensor_origin\": 2683552.1331144567\r\n",
      "}"
     ]
    }
   ],
   "source": [
    "!cat isd.isd"
   ]
  },
  {
   "cell_type": "code",
   "execution_count": 349,
   "metadata": {
    "collapsed": false
   },
   "outputs": [],
   "source": [
    "# This is hard coded in Anne's script\n",
    "isisFocalPlan2SocetPlate = np.eye(3)\n",
    "isisFocalPlan2SocetPlate[1,1] = -1.0\n",
    "isisFocalPlan2SocetPlate[2,2] = -1.0\n",
    "\n",
    "# Grab the body fixed coordinates from SPICE\n",
    "\n",
    "# The mercury Naif ID code is 199\n",
    "nid = 199\n"
   ]
  },
  {
   "cell_type": "code",
   "execution_count": 350,
   "metadata": {
    "collapsed": false
   },
   "outputs": [
    {
     "ename": "SyntaxError",
     "evalue": "invalid syntax (<ipython-input-350-69367ee46c92>, line 2)",
     "output_type": "error",
     "traceback": [
      "\u001b[1;36m  File \u001b[1;32m\"<ipython-input-350-69367ee46c92>\"\u001b[1;36m, line \u001b[1;32m2\u001b[0m\n\u001b[1;33m    isd['x_sensor_origin'] =\u001b[0m\n\u001b[1;37m                             ^\u001b[0m\n\u001b[1;31mSyntaxError\u001b[0m\u001b[1;31m:\u001b[0m invalid syntax\n"
     ]
    }
   ],
   "source": [
    "# OPK\n",
    "isd['x_sensor_origin'] = \n",
    "isd['y_sensor_origin'] = \n",
    "isd['z_sensor_origin'] = \n",
    "isd['omega'] = \n",
    "isd['phi'] =\n",
    "isd['kappa'] = "
   ]
  },
  {
   "cell_type": "code",
   "execution_count": null,
   "metadata": {
    "collapsed": true
   },
   "outputs": [],
   "source": [
    "# ISD Search Information - totally fabricated.\n",
    "isd['min_elevation'] = -1.0\n",
    "isd['max_elevation'] = 1.0"
   ]
  },
  {
   "cell_type": "code",
   "execution_count": null,
   "metadata": {
    "collapsed": true
   },
   "outputs": [],
   "source": []
  },
  {
   "cell_type": "code",
   "execution_count": null,
   "metadata": {
    "collapsed": false
   },
   "outputs": [],
   "source": [
    "isd"
   ]
  },
  {
   "cell_type": "code",
   "execution_count": null,
   "metadata": {
    "collapsed": true
   },
   "outputs": [],
   "source": []
  }
 ],
 "metadata": {
  "kernelspec": {
   "display_name": "Python 3",
   "language": "python",
   "name": "python3"
  },
  "language_info": {
   "codemirror_mode": {
    "name": "ipython",
    "version": 3
   },
   "file_extension": ".py",
   "mimetype": "text/x-python",
   "name": "python",
   "nbconvert_exporter": "python",
   "pygments_lexer": "ipython3",
   "version": "3.4.3"
  }
 },
 "nbformat": 4,
 "nbformat_minor": 1
}
