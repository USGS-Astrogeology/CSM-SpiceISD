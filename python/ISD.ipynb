{
 "cells": [
  {
   "cell_type": "code",
   "execution_count": 55,
   "metadata": {
    "collapsed": false
   },
   "outputs": [],
   "source": [
    "import json\n",
    "import math\n",
    "\n",
    "import numpy as np\n",
    "import pvl\n",
    "import spiceypy as spice\n"
   ]
  },
  {
   "cell_type": "code",
   "execution_count": 56,
   "metadata": {
    "collapsed": true
   },
   "outputs": [],
   "source": [
    "# Utility Func\n",
    "def find_in_dict(obj, key):\n",
    "    \"\"\"\n",
    "    Recursively find an entry in a dictionary\n",
    "\n",
    "    Parameters\n",
    "    ----------\n",
    "    obj : dict\n",
    "          The dictionary to search\n",
    "    key : str\n",
    "          The key to find in the dictionary\n",
    "\n",
    "    Returns\n",
    "    -------\n",
    "    item : obj\n",
    "           The value from the dictionary\n",
    "    \"\"\"\n",
    "    if key in obj:\n",
    "        return obj[key]\n",
    "    for k, v in obj.items():\n",
    "        if isinstance(v,dict):\n",
    "            item = find_in_dict(v, key)\n",
    "            if item is not None:\n",
    "                return item"
   ]
  },
  {
   "cell_type": "raw",
   "metadata": {
    "collapsed": false
   },
   "source": [
    "# OLD FURNISH THAT WAS NOT 100% IDENTICAL TO ISIS\n",
    "# Furnish the IK Kernel\n",
    "spice.furnsh(\"../../tests/data/msgr_mdis_v160.ti\")\n",
    "ikid = 236820\n",
    "\n",
    "spice.furnsh('../../tests/data/msgr_v231.tf')  # Frames Kernel mapping between frames\n",
    "spice.furnsh('../../tests/data/pck00010_msgr_v23.tpc')  # PC Kernel with planetary attitude and body information\n",
    "spice.furnsh('../../tests/data/msgr_dyn_v600.tf')\n",
    "\n",
    "spice.furnsh('../../tests/data/msgr_de405_de423s.bsp')\n",
    "spice.furnsh('../../tests/data/msgr_040803_150430_150430_od431sc_2.bsp')\n",
    "\n",
    "spice.furnsh('../../tests/data/msgr_mdis_sc050727_100302_sub_v1.bc')\n",
    "spice.furnsh('../../tests/data/msgr_mdis_gm040819_150430v1.bc')  # MDIS Instrument Pointing (236890)\n",
    "spice.furnsh('../../tests/data/msgr_1304_v02.bc')  #Bus and Spacecraft Panels position\n",
    "\n",
    "spice.furnsh('../../tests/data/naif0011.tls')\n",
    "spice.furnsh('../../tests/data/messenger_2548.tsc')"
   ]
  },
  {
   "cell_type": "code",
   "execution_count": 57,
   "metadata": {
    "collapsed": false
   },
   "outputs": [],
   "source": [
    "ikid = 236820\n",
    "# Load kernels same order ISIS Spice::init() does\n",
    "# Frame\n",
    "# TargetAttitudeShape\n",
    "spice.furnsh('../../tests/data/pck00010_msgr_v23.tpc')\n",
    "# Instrument\n",
    "spice.furnsh(\"../../tests/data/msgr_mdis_v160.ti\")\n",
    "# InstrumentAddendum\n",
    "spice.furnsh('../../tests/data/mdisAddendum009.ti')\n",
    "# LeapSecond\n",
    "spice.furnsh('../../tests/data/naif0012.tls')\n",
    "# SpacecraftClock\n",
    "spice.furnsh('../../tests/data/messenger_2548.tsc')\n",
    "# Extra\n",
    "# TargetPosition\n",
    "spice.furnsh('../../tests/data/de423s.bsp')\n",
    "# InstrumentPointing\n",
    "spice.furnsh('../../tests/data/msgr20130404.bc')\n",
    "spice.furnsh('../../tests/data/msgr20130405.bc')\n",
    "spice.furnsh('../../tests/data/msgr20130406.bc')\n",
    "spice.furnsh('../../tests/data/msgr20130407.bc')\n",
    "spice.furnsh('../../tests/data/msgr20130408.bc')\n",
    "spice.furnsh('../../tests/data/msgr20130409.bc')\n",
    "spice.furnsh('../../tests/data/msgr20130410.bc')\n",
    "spice.furnsh('../../tests/data/msgr20130411.bc')\n",
    "spice.furnsh('../../tests/data/1072683119_1965_mdis_atthist.bc')\n",
    "spice.furnsh('../../tests/data/1072716050_291010_mdis_pivot_pvtres.bc')\n",
    "spice.furnsh('../../tests/data/msgr_v231.tf')\n",
    "# InstrumentPosition\n",
    "spice.furnsh('../../tests/data/msgr_20040803_20150430_od431sc_2.bsp')\n"
   ]
  },
  {
   "cell_type": "code",
   "execution_count": 58,
   "metadata": {
    "collapsed": false
   },
   "outputs": [],
   "source": [
    "# Create the ISD object\n",
    "isd = {}\n",
    "\n",
    "# Load information from the IK kernel\n",
    "isd['focal_length'] = spice.gdpool('INS-{}_FOCAL_LENGTH'.format(ikid), 0, 1)\n",
    "isd['focal_length_epsilon'] = spice.gdpool('INS-{}_FL_UNCERTAINTY'.format(ikid), 0, 1)\n",
    "isd['nlines'] = spice.gipool('INS-{}_PIXEL_LINES'.format(ikid), 0, 1)\n",
    "isd['nsamples'] = spice.gipool('INS-{}_PIXEL_SAMPLES'.format(ikid), 0, 1)\n",
    "isd['original_half_lines'] = isd['nlines'] / 2.0\n",
    "isd['original_half_samples'] = isd['nsamples'] / 2.0\n",
    "isd['pixel_pitch'] = spice.gdpool('INS-{}_PIXEL_PITCH'.format(ikid), 0, 1)\n",
    "isd['ccd_center'] = spice.gdpool('INS-{}_CCD_CENTER'.format(ikid), 0, 2)\n",
    "isd['ifov'] = spice.gdpool('INS-{}_IFOV'.format(ikid), 0, 1)\n",
    "isd['boresight'] = spice.gdpool('INS-{}_BORESIGHT'.format(ikid), 0, 3)\n",
    "isd['transx'] = spice.gdpool('INS-{}_TRANSX'.format(ikid), 0, 3)\n",
    "isd['transy'] = spice.gdpool('INS-{}_TRANSY'.format(ikid), 0, 3)\n",
    "isd['itrans_sample'] = spice.gdpool('INS-{}_ITRANSS'.format(ikid), 0, 3)\n",
    "isd['itrans_line'] = spice.gdpool('INS-{}_ITRANSL'.format(ikid), 0, 3)\n",
    "isd['odt_x'] = spice.gdpool('INS-{}_OD_T_X'.format(ikid), 0, 10)\n",
    "isd['odt_y'] = spice.gdpool('INS-{}_OD_T_Y'.format(ikid), 0, 10)\n",
    "isd['starting_detector_sample'] = spice.gdpool('INS-{}_FPUBIN_START_SAMPLE'.format(ikid), 0, 1)\n",
    "isd['starting_detector_line'] = spice.gdpool('INS-{}_FPUBIN_START_LINE'.format(ikid), 0, 1)\n"
   ]
  },
  {
   "cell_type": "code",
   "execution_count": 59,
   "metadata": {
    "collapsed": true
   },
   "outputs": [],
   "source": [
    "def distort_focal_length(coeffs, t):\n",
    "    \"\"\"\n",
    "    Compute the distorted focal length\n",
    "    \n",
    "    Parameters\n",
    "    ----------\n",
    "    coeffs : iterable\n",
    "             of coefficient values\n",
    "    t : float\n",
    "        temperature in C\n",
    "        \n",
    "    Returns\n",
    "    -------\n",
    "    focal_length : float\n",
    "                   the temperature adjusted focal length\n",
    "    \"\"\"\n",
    "    focal_length = coeffs[0]\n",
    "    for i in range(1, len(coeffs[1:])):\n",
    "        focal_length += coeffs[i]*t**i\n",
    "    return focal_length"
   ]
  },
  {
   "cell_type": "code",
   "execution_count": 60,
   "metadata": {
    "collapsed": false
   },
   "outputs": [],
   "source": [
    "# Load the ISIS Cube header\n",
    "header = pvl.load('../../tests/data/EN1007907102M.cub')\n",
    "\n",
    "isd['instrument_id'] = find_in_dict(header, 'InstrumentId')\n",
    "isd['spacecraft_name'] = find_in_dict(header, 'SpacecraftName')\n",
    "isd['target_name'] = find_in_dict(header, 'TargetName')\n",
    "\n",
    "# Get the radii from SPICE\n",
    "rad = spice.bodvrd(isd['target_name'], 'RADII', 3)\n",
    "radii = rad[1]\n",
    "isd['semi_major_axis'] = rad[1][0]\n",
    "isd['semi_minor_axis'] = rad[1][1]\n",
    "\n",
    "# Get temperature from SPICE and adjust focal length\n",
    "spice.gdpool('INS-{}_FOCAL_LENGTH'.format(ikid), 0, 1)\n",
    "temp_coeffs = spice.gdpool('INS-{}_FL_TEMP_COEFFS'.format(ikid), 0, 6)\n",
    "temp = find_in_dict(header, 'FocalPlaneTemperature').value\n",
    "isd['focal_length'] = distort_focal_length(temp_coeffs, temp)"
   ]
  },
  {
   "cell_type": "markdown",
   "metadata": {},
   "source": [
    "Now we need to compute time. - This has been verified as correct using campt."
   ]
  },
  {
   "cell_type": "code",
   "execution_count": 61,
   "metadata": {
    "collapsed": false
   },
   "outputs": [],
   "source": [
    "# Here convert the sclock\n",
    "sclock = find_in_dict(header, 'SpacecraftClockCount')\n",
    "exposure_duration = find_in_dict(header, 'ExposureDuration')\n",
    "exposure_duration = exposure_duration.value * 0.001  # Scale to seconds\n",
    "\n",
    "# Get the instrument id, and, since this is a framer, set the time to the middle of the exposure\n",
    "spacecraft_id = spice.bods2c('MESSENGER')\n",
    "et = spice.scs2e(spacecraft_id, sclock)\n",
    "et += (exposure_duration / 2.0)\n",
    "\n",
    "isd['ephemeris_time'] = et"
   ]
  },
  {
   "cell_type": "code",
   "execution_count": 62,
   "metadata": {
    "collapsed": false
   },
   "outputs": [
    {
     "name": "stdout",
     "output_type": "stream",
     "text": [
      "[ 1728181.06360082 -2088202.56686554  2082707.60899282]\n"
     ]
    }
   ],
   "source": [
    "# Comparing spacecraft position direct to Mercury body-fixed frame with J2000 to Mercury body-fixed\n",
    "loc_direct, _ = spice.spkpos(isd['target_name'], isd['ephemeris_time'], 'IAU_MERCURY', 'LT+S', 'MESSENGER')\n",
    "print(loc_direct * -1000)\n",
    "\n",
    "# Target=Mercury, Observer=Messenger, go to J2000 first (to match ISIS3)\n",
    "loc, ltc = spice.spkpos(isd['target_name'], isd['ephemeris_time'], 'J2000', 'LT+S', 'MESSENGER')\n",
    "# Get the transformation from J2000 to Mercury body-fixed frame\n",
    "rotation = spice.pxform('J2000', 'IAU_MERCURY', isd['ephemeris_time'])\n",
    "loc = spice.mxv(rotation, loc)\n",
    "\n",
    "# Scale to meters and reverse direction (since target=Mercury and observer=messenger)\n",
    "# we want vector from Mercury origin to spacecraft position\n",
    "isd['x_sensor_origin'] = loc[0] * -1000\n",
    "isd['y_sensor_origin'] = loc[1] * -1000\n",
    "isd['z_sensor_origin'] = loc[2] * -1000"
   ]
  },
  {
   "cell_type": "code",
   "execution_count": 63,
   "metadata": {
    "collapsed": false
   },
   "outputs": [
    {
     "name": "stdout",
     "output_type": "stream",
     "text": [
      "1728181.03408\n",
      "-2088202.5913\n",
      "2082707.60899\n"
     ]
    }
   ],
   "source": [
    "print(isd['x_sensor_origin'])\n",
    "print(isd['y_sensor_origin'])\n",
    "print(isd['z_sensor_origin'])"
   ]
  },
  {
   "cell_type": "code",
   "execution_count": 64,
   "metadata": {
    "collapsed": true
   },
   "outputs": [],
   "source": [
    "# Get the rotation angles from MDIS NAC frame to Mercury body-fixed frame\n",
    "camera2bodyfixed = spice.pxform('MSGR_MDIS_NAC','IAU_MERCURY', isd['ephemeris_time'])\n",
    "opk = spice.m2eul(camera2bodyfixed, 3, 2, 1)\n",
    "\n",
    "isd['omega'] = opk[2]\n",
    "isd['phi'] = opk[1]\n",
    "isd['kappa'] = opk[0]"
   ]
  },
  {
   "cell_type": "code",
   "execution_count": 65,
   "metadata": {
    "collapsed": false
   },
   "outputs": [
    {
     "data": {
      "text/plain": [
       "array([[ 0.56851361,  0.56123674, -0.60150278],\n",
       "       [ 0.81726217, -0.30156832,  0.49105916],\n",
       "       [ 0.09420626, -0.77075928, -0.63012325]])"
      ]
     },
     "execution_count": 65,
     "metadata": {},
     "output_type": "execute_result"
    }
   ],
   "source": [
    "camera2bodyfixed"
   ]
  },
  {
   "cell_type": "code",
   "execution_count": 70,
   "metadata": {
    "collapsed": false
   },
   "outputs": [
    {
     "name": "stdout",
     "output_type": "stream",
     "text": [
      "SUN POSITION (m): -31648725087.588726 -60633907522.72863 -38729485.77334732\n",
      "MESSENGER VELOCITY (m/s): 1998.2873093664398 -1800.8962292264728 -1674.7631538476487\n",
      "[ -1.72818106e+03   2.08820257e+03  -2.08270761e+03  -1.99769080e+00\n",
      "   1.80028686e+00   1.67474034e+00]\n"
     ]
    }
   ],
   "source": [
    "# Get the sun's position relative to a Mercury-fixed frame.\n",
    "target = \"SUN\"\n",
    "et = isd['ephemeris_time']\n",
    "reference_frame = \"IAU_MERCURY\"\n",
    "light_time_correction = \"LT+S\"\n",
    "observer = \"MERCURY\"\n",
    "\n",
    "sun_state, lt = spice.spkezr(target,\n",
    "                             et,\n",
    "                             reference_frame,\n",
    "                             light_time_correction,\n",
    "                             observer)\n",
    "\n",
    "# Convert to meters\n",
    "isd['x_sun_position'] = sun_state[0] * 1000\n",
    "isd['y_sun_position'] = sun_state[1] * 1000\n",
    "isd['z_sun_position'] = sun_state[2] * 1000\n",
    "print(\"SUN POSITION (m): {} {} {}\".format(sun_state[0]*1000,\n",
    "                                          sun_state[1]*1000,\n",
    "                                          sun_state[2]*1000))\n",
    "\n",
    "# Get velocity of mdis nac (right now it is getting velocity of spacecraft)\n",
    "target = \"MESSENGER\"\n",
    "et = isd['ephemeris_time']\n",
    "reference_frame = \"IAU_MERCURY\"\n",
    "light_time_correction = \"LT+S\"\n",
    "observer = \"MERCURY\"\n",
    "messenger_state, lt = spice.spkezr(target,\n",
    "                                   et,\n",
    "                                   reference_frame,\n",
    "                                   light_time_correction,\n",
    "                                   observer)\n",
    "print(\"MESSENGER VELOCITY (m/s): {} {} {}\".format(messenger_state[3]*1000,\n",
    "                                                  messenger_state[4]*1000,\n",
    "                                                  messenger_state[5]*1000))\n",
    "\n",
    "v,_ = spice.spkezr(observer, et, reference_frame, light_time_correction, target)\n",
    "print(v)"
   ]
  },
  {
   "cell_type": "code",
   "execution_count": 67,
   "metadata": {
    "collapsed": true
   },
   "outputs": [],
   "source": [
    "class NumpyAwareJSONEncoder(json.JSONEncoder):\n",
    "    def default(self, obj):\n",
    "        if isinstance(obj, np.ndarray) and obj.ndim == 1:\n",
    "            lobj = obj.tolist()\n",
    "            if len(lobj) == 1:\n",
    "                return lobj[0]\n",
    "            else:\n",
    "                return lobj\n",
    "        return json.JSONEncoder.default(self, obj)\n",
    "\n",
    "with open('isd.isd', 'w') as f:\n",
    "    f.write(json.dumps(isd, f, cls=NumpyAwareJSONEncoder, sort_keys=True, indent=4))"
   ]
  },
  {
   "cell_type": "code",
   "execution_count": 68,
   "metadata": {
    "collapsed": false
   },
   "outputs": [
    {
     "name": "stdout",
     "output_type": "stream",
     "text": [
      "{\r\n",
      "    \"boresight\": [\r\n",
      "        0.0,\r\n",
      "        0.0,\r\n",
      "        1.0\r\n",
      "    ],\r\n",
      "    \"ccd_center\": [\r\n",
      "        512.5,\r\n",
      "        512.5\r\n",
      "    ],\r\n",
      "    \"ephemeris_time\": 418855170.49264956,\r\n",
      "    \"focal_length\": 549.2347965210602,\r\n",
      "    \"focal_length_epsilon\": 0.5,\r\n",
      "    \"ifov\": 25.44,\r\n",
      "    \"instrument_id\": \"MDIS-NAC\",\r\n",
      "    \"itrans_line\": [\r\n",
      "        0.0,\r\n",
      "        0.0,\r\n",
      "        71.42857143\r\n",
      "    ],\r\n",
      "    \"itrans_sample\": [\r\n",
      "        0.0,\r\n",
      "        71.42857143,\r\n",
      "        0.0\r\n",
      "    ],\r\n",
      "    \"kappa\": -0.963008015000929,\r\n",
      "    \"nlines\": 1024,\r\n",
      "    \"nsamples\": 1024,\r\n",
      "    \"odt_x\": [\r\n",
      "        0.0,\r\n",
      "        1.001854269623802,\r\n",
      "        0.0,\r\n",
      "        0.0,\r\n",
      "        -0.0005094440474941111,\r\n",
      "        0.0,\r\n",
      "        1.004010471468856e-05,\r\n",
      "        0.0,\r\n",
      "        1.004010471468856e-05,\r\n",
      "        0.0\r\n",
      "    ],\r\n",
      "    \"odt_y\": [\r\n",
      "        0.0,\r\n",
      "        0.0,\r\n",
      "        1.0,\r\n",
      "        0.0009060010594996751,\r\n",
      "        0.0,\r\n",
      "        0.0003574842626620758,\r\n",
      "        0.0,\r\n",
      "        1.004010471468856e-05,\r\n",
      "        0.0,\r\n",
      "        1.004010471468856e-05\r\n",
      "    ],\r\n",
      "    \"omega\": 2.25613869898165,\r\n",
      "    \"original_half_lines\": 512.0,\r\n",
      "    \"original_half_samples\": 512.0,\r\n",
      "    \"phi\": 0.09434616179037647,\r\n",
      "    \"pixel_pitch\": 0.014,\r\n",
      "    \"semi_major_axis\": 2439.4,\r\n",
      "    \"semi_minor_axis\": 2439.4,\r\n",
      "    \"spacecraft_name\": \"Messenger\",\r\n",
      "    \"starting_detector_line\": 1.0,\r\n",
      "    \"starting_detector_sample\": 9.0,\r\n",
      "    \"target_name\": \"Mercury\",\r\n",
      "    \"transx\": [\r\n",
      "        0.0,\r\n",
      "        0.014,\r\n",
      "        0.0\r\n",
      "    ],\r\n",
      "    \"transy\": [\r\n",
      "        0.0,\r\n",
      "        0.0,\r\n",
      "        0.014\r\n",
      "    ],\r\n",
      "    \"x_sensor_origin\": 1728181.0340792781,\r\n",
      "    \"x_sun_position\": -31648725087.588726,\r\n",
      "    \"y_sensor_origin\": -2088202.591297346,\r\n",
      "    \"y_sun_position\": -60633907522.72863,\r\n",
      "    \"z_sensor_origin\": 2082707.608992824,\r\n",
      "    \"z_sun_position\": -38729485.77334732\r\n",
      "}"
     ]
    }
   ],
   "source": [
    "!cat isd.isd"
   ]
  },
  {
   "cell_type": "raw",
   "metadata": {
    "collapsed": false
   },
   "source": [
    "# Get the camera position in lat, lon, height\n",
    "# lat/lon are in raddians\n",
    "_, radii = spice.bodvrd(\"MERCURY\", \"RADII\", 3)\n",
    "radii *= 1000\n",
    "flattening = (radii[0] - radii[2]) / radii[0]\n",
    "lon, lat, height = spice.recgeo(loc * 1000, radii[0], flattening)\n",
    "\n",
    "# Can I use X, Y, Z body fixed in meters, or do I need to use lat, lon, height\n",
    "# in rectangular coordinates?\n",
    "#isd['x_sensor_origin'] = lon\n",
    "#isd['y_sensor_origin'] = lat\n",
    "#isd['z_sensor_origin'] = height"
   ]
  },
  {
   "cell_type": "code",
   "execution_count": null,
   "metadata": {
    "collapsed": false
   },
   "outputs": [],
   "source": []
  },
  {
   "cell_type": "raw",
   "metadata": {
    "collapsed": false
   },
   "source": [
    "# This needs to go from object space to image space - right now, it goes from object space (Mercury)\n",
    "# to sensor position space (MDIS_NAC)\n",
    "camera2bodyfixed = spice.pxform('MSGR_MDIS_NAC', 'IAU_MERCURY', isd['ephemeris_time'])\n",
    "camopk = spice.m2eul(camera2bodyfixed, 3, 2, 1)\n",
    "\n",
    "\n",
    "\n",
    "isd['omega'] = camopk[2]\n",
    "isd['phi'] = camopk[1]\n",
    "isd['kappa'] = camopk[0]\n",
    "\n",
    "# Rotation around Y, Z from camera to focal plane\n",
    "focal = np.zeros((3,3))\n",
    "focal[0][0] = 1\n",
    "focal[1][1] = -1\n",
    "focal[2][2] = -1\n",
    "focalrot = spice.mxmt(focal, camera2bodyfixed) # np.dot().T\n",
    "\n",
    "# Get the length of the vector\n",
    "xyzlength = loc[0]**2 + loc[1]**2\n",
    "xylength = math.sqrt(xyzlength)\n",
    "xyzlength = math.sqrt(xyzlength + loc[2]**2)\n",
    "\n",
    "slon = loc[1] / xylength\n",
    "clon = loc[0] / xylength\n",
    "slat = loc[2] / xyzlength\n",
    "clat = xylength / xyzlength\n",
    "\n",
    "#Ocentric to ographic rotation\n",
    "oo = np.zeros((3,3))\n",
    "oo[:,0] = -slon, clon, 0.0\n",
    "oo[:,1] = -slat * clon, -slat * slon, clat\n",
    "oo[:,2] = clat*clon, clat*slon, slat\n",
    "\n",
    "rotter = spice.mxm(focalrot, oo)  # np.dot\n",
    "print('R', rotter)\n",
    "opk = spice.m2eul(rotter, 3, 2, 1)\n",
    "print(opk)\n",
    "print(list(map(math.degrees, opk)))\n",
    "\n",
    "#isd['omega'] = opk[2]\n",
    "#isd['phi'] = opk[1]\n",
    "#isd['kappa'] = opk[0]"
   ]
  },
  {
   "cell_type": "code",
   "execution_count": 69,
   "metadata": {
    "collapsed": false,
    "scrolled": false
   },
   "outputs": [
    {
     "ename": "NameError",
     "evalue": "name 'plt' is not defined",
     "output_type": "error",
     "traceback": [
      "\u001b[1;31m---------------------------------------------------------------------------\u001b[0m",
      "\u001b[1;31mNameError\u001b[0m                                 Traceback (most recent call last)",
      "\u001b[1;32m<ipython-input-69-9fe8051f3d6e>\u001b[0m in \u001b[0;36m<module>\u001b[1;34m()\u001b[0m\n\u001b[0;32m      3\u001b[0m \u001b[1;32mfrom\u001b[0m \u001b[0mitertools\u001b[0m \u001b[1;32mimport\u001b[0m \u001b[0mproduct\u001b[0m\u001b[1;33m,\u001b[0m \u001b[0mcombinations\u001b[0m\u001b[1;33m\u001b[0m\u001b[0m\n\u001b[0;32m      4\u001b[0m \u001b[1;33m\u001b[0m\u001b[0m\n\u001b[1;32m----> 5\u001b[1;33m \u001b[0mfig\u001b[0m \u001b[1;33m=\u001b[0m \u001b[0mplt\u001b[0m\u001b[1;33m.\u001b[0m\u001b[0mfigure\u001b[0m\u001b[1;33m(\u001b[0m\u001b[1;33m)\u001b[0m\u001b[1;33m\u001b[0m\u001b[0m\n\u001b[0m\u001b[0;32m      6\u001b[0m \u001b[0max\u001b[0m \u001b[1;33m=\u001b[0m \u001b[0mfig\u001b[0m\u001b[1;33m.\u001b[0m\u001b[0madd_subplot\u001b[0m\u001b[1;33m(\u001b[0m\u001b[1;36m111\u001b[0m\u001b[1;33m,\u001b[0m \u001b[0mprojection\u001b[0m\u001b[1;33m=\u001b[0m\u001b[1;34m'3d'\u001b[0m\u001b[1;33m)\u001b[0m\u001b[1;33m\u001b[0m\u001b[0m\n\u001b[0;32m      7\u001b[0m \u001b[0max\u001b[0m\u001b[1;33m.\u001b[0m\u001b[0mset_aspect\u001b[0m\u001b[1;33m(\u001b[0m\u001b[1;34m'equal'\u001b[0m\u001b[1;33m)\u001b[0m\u001b[1;33m\u001b[0m\u001b[0m\n",
      "\u001b[1;31mNameError\u001b[0m: name 'plt' is not defined"
     ]
    }
   ],
   "source": [
    "%matplotlib notebook\n",
    "from mpl_toolkits.mplot3d import Axes3D\n",
    "from itertools import product, combinations\n",
    "\n",
    "fig = plt.figure()\n",
    "ax = fig.add_subplot(111, projection='3d')\n",
    "ax.set_aspect('equal')\n",
    "\n",
    "u = np.linspace(0, 2 * np.pi, 100)\n",
    "v = np.linspace(0, np.pi, 100)\n",
    "\n",
    "x = 1 * np.outer(np.cos(u), np.sin(v))\n",
    "y = 1 * np.outer(np.sin(u), np.sin(v))\n",
    "z = 1 * np.outer(np.ones(np.size(u)), np.cos(v))\n",
    "#for i in range(2):\n",
    "#    ax.plot_surface(x+random.randint(-5,5), y+random.randint(-5,5), z+random.randint(-5,5),  rstride=4, cstride=4, color='b', linewidth=0, alpha=0.5)\n",
    "elev = 10.0\n",
    "rot = 80.0 / 180 * np.pi\n",
    "ax.plot_surface(x, y, z,  rstride=4, cstride=4, color='b', linewidth=0, alpha=0.5)\n",
    "\n",
    "# Plot the origin of the body fixed coordinate system\n",
    "ax.scatter(0, 0, 0, 'ko', s=50)\n",
    "\n",
    "# Plot the spacecraft position, normalized to the radius of the sphere\n",
    "\n",
    "x = isd['x_sensor_origin'] / radii[0]\n",
    "y = isd['y_sensor_origin'] / radii[0]\n",
    "z = isd['z_sensor_origin'] / radii[0]\n",
    "\n",
    "delta = 0.075\n",
    "px = float(x + delta)\n",
    "py = float(y + delta)\n",
    "pz = float(z + delta)\n",
    "nx = float(x - delta)\n",
    "ny = float(y - delta)\n",
    "nz = float(z - delta)\n",
    "\n",
    "coords = np.array([(px, py, pz), \n",
    "                   (px, py, nz),\n",
    "                   (px, ny, nz),\n",
    "                   (px, ny, pz),\n",
    "                   (px, py, pz),\n",
    "                   (nx, py, pz),\n",
    "                   (nx, py, nz),\n",
    "                   (nx, ny, nz),\n",
    "                   (nx, ny, pz),\n",
    "                   (nx, py, pz),\n",
    "                   (nx, ny, pz),\n",
    "                  (px, ny, pz),\n",
    "                  (px, ny, nz), \n",
    "                  (nx, ny, nz),\n",
    "                  (nx, py, nz),\n",
    "                  (px, py, nz)])\n",
    "          \n",
    "ax.plot_wireframe(coords[:,0], coords[:,1], coords[:,2],color= 'r')\n",
    "\n",
    "#print(isd['boresight'])\n",
    "\n",
    "ax.quiver(x, y, z, 0,0,1, color='green', pivot='tail')  # Boresight\n",
    "\n",
    "print(camera2bodyfixed.dot(np.array([0, 0, isd['focal_length']])))\n",
    "ax.quiver(x, y, z, *camera2bodyfixed.dot(np.array([0, 0, isd['focal_length']])), color='black', pivot='tail')"
   ]
  },
  {
   "cell_type": "code",
   "execution_count": null,
   "metadata": {
    "collapsed": false
   },
   "outputs": [],
   "source": []
  },
  {
   "cell_type": "code",
   "execution_count": null,
   "metadata": {
    "collapsed": false
   },
   "outputs": [],
   "source": [
    "spice.spkez(-236820, isd['ephemeris_time'], 'IAU_MERCURY', \"NONE\", 199 )"
   ]
  },
  {
   "cell_type": "code",
   "execution_count": null,
   "metadata": {
    "collapsed": false
   },
   "outputs": [],
   "source": []
  },
  {
   "cell_type": "code",
   "execution_count": null,
   "metadata": {
    "collapsed": false
   },
   "outputs": [],
   "source": [
    "!cat isd.isd"
   ]
  },
  {
   "cell_type": "code",
   "execution_count": 14,
   "metadata": {
    "collapsed": false
   },
   "outputs": [],
   "source": [
    "# This is hard coded in Anne's script\n",
    "isisFocalPlan2SocetPlate = np.eye(3)\n",
    "isisFocalPlan2SocetPlate[1,1] = -1.0\n",
    "isisFocalPlan2SocetPlate[2,2] = -1.0\n",
    "\n",
    "# Grab the body fixed coordinates from SPICE\n",
    "\n",
    "# The mercury Naif ID code is 199\n",
    "nid = 199\n"
   ]
  },
  {
   "cell_type": "code",
   "execution_count": 15,
   "metadata": {
    "collapsed": false
   },
   "outputs": [
    {
     "ename": "SyntaxError",
     "evalue": "invalid syntax (<ipython-input-15-69367ee46c92>, line 2)",
     "output_type": "error",
     "traceback": [
      "\u001b[1;36m  File \u001b[1;32m\"<ipython-input-15-69367ee46c92>\"\u001b[1;36m, line \u001b[1;32m2\u001b[0m\n\u001b[1;33m    isd['x_sensor_origin'] =\u001b[0m\n\u001b[1;37m                             ^\u001b[0m\n\u001b[1;31mSyntaxError\u001b[0m\u001b[1;31m:\u001b[0m invalid syntax\n"
     ]
    }
   ],
   "source": [
    "# OPK\n",
    "isd['x_sensor_origin'] = \n",
    "isd['y_sensor_origin'] = \n",
    "isd['z_sensor_origin'] = \n",
    "isd['omega'] = \n",
    "isd['phi'] =\n",
    "isd['kappa'] = "
   ]
  },
  {
   "cell_type": "code",
   "execution_count": 16,
   "metadata": {
    "collapsed": true
   },
   "outputs": [],
   "source": [
    "# ISD Search Information - totally fabricated.\n",
    "isd['min_elevation'] = -1.0\n",
    "isd['max_elevation'] = 1.0"
   ]
  },
  {
   "cell_type": "code",
   "execution_count": null,
   "metadata": {
    "collapsed": true
   },
   "outputs": [],
   "source": []
  },
  {
   "cell_type": "code",
   "execution_count": 17,
   "metadata": {
    "collapsed": false
   },
   "outputs": [
    {
     "data": {
      "text/plain": [
       "{'boresight': array([ 0.,  0.,  1.]),\n",
       " 'ccd_center': array([ 512.5]),\n",
       " 'ephemeris_time': 418855170.49264956,\n",
       " 'focal_length': array([ 549.11781954]),\n",
       " 'focal_length_epsilon': array([ 0.5]),\n",
       " 'ifov': array([ 25.44]),\n",
       " 'instrument_id': 'MDIS-NAC',\n",
       " 'itrans_line': array([  0.        ,   0.        ,  71.42857143]),\n",
       " 'itrans_sample': array([  0.        ,  71.42857143,   0.        ]),\n",
       " 'kappa': -0.9630375478615623,\n",
       " 'max_elevation': 1.0,\n",
       " 'min_elevation': -1.0,\n",
       " 'nlines': array([1024]),\n",
       " 'nsamples': array([1024]),\n",
       " 'odt_x': array([  0.00000000e+00,   1.00185427e+00,   0.00000000e+00,\n",
       "          0.00000000e+00,  -5.09444047e-04,   0.00000000e+00,\n",
       "          1.00401047e-05,   0.00000000e+00,   1.00401047e-05]),\n",
       " 'odt_y': array([  0.00000000e+00,   0.00000000e+00,   1.00000000e+00,\n",
       "          9.06001059e-04,   0.00000000e+00,   3.57484263e-04,\n",
       "          0.00000000e+00,   1.00401047e-05,   0.00000000e+00]),\n",
       " 'omega': 2.256130940792258,\n",
       " 'original_half_lines': array([ 512.]),\n",
       " 'original_half_samples': array([ 512.]),\n",
       " 'phi': 0.09433201631102328,\n",
       " 'pixel_pitch': array([ 0.014]),\n",
       " 'semi_major_axis': 2439.4000000000001,\n",
       " 'semi_minor_axis': 2439.4000000000001,\n",
       " 'spacecraft_name': 'Messenger',\n",
       " 'starting_detector_line': array([ 1.]),\n",
       " 'starting_detector_sample': array([ 9.]),\n",
       " 'target_name': 'Mercury',\n",
       " 'transx': array([ 0.   ,  0.014,  0.   ]),\n",
       " 'transy': array([ 0.   ,  0.   ,  0.014]),\n",
       " 'x_sensor_origin': 1728357.7031238307,\n",
       " 'y_sensor_origin': -2088409.0061042644,\n",
       " 'z_sensor_origin': 2082873.9280557402}"
      ]
     },
     "execution_count": 17,
     "metadata": {},
     "output_type": "execute_result"
    }
   ],
   "source": [
    "isd"
   ]
  },
  {
   "cell_type": "code",
   "execution_count": null,
   "metadata": {
    "collapsed": true
   },
   "outputs": [],
   "source": []
  },
  {
   "cell_type": "raw",
   "metadata": {
    "collapsed": false
   },
   "source": [
    "# Get the sun's position relative to a Mercury-fixed frame.\n",
    "target = \"SUN\"\n",
    "et = isd['ephemeris_time']\n",
    "reference_frame = \"IAU_MERCURY\"\n",
    "light_time_correction = \"LT+S\"\n",
    "observer = \"MERCURY\"\n",
    "\n",
    "sun_state, lt = spice.spkezr(target, et, reference_frame, light_time_correction, observer)\n",
    "isd['x_sun_position'] = sun_state[0] * 1000\n",
    "isd['y_sun_position'] = sun_state[1] * 1000\n",
    "isd['z_sun_position'] = sun_state[2] * 1000\n",
    "print(\"SUN POSITION (m): {} {} {}\".format(sun_state[0]*1000, sun_state[1]*1000, sun_state[2]*1000))\n",
    "\n",
    "# Get velocity of mdis nac (right now it is getting velocity of spacecraft, not sensor)\n",
    "target = \"MESSENGER\"\n",
    "et = isd['ephemeris_time']\n",
    "reference_frame = \"IAU_MERCURY\"\n",
    "light_time_correction = \"LT+S\"\n",
    "observer = \"MERCURY\"\n",
    "messenger_state, lt = spice.spkezr(target, et, reference_frame, light_time_correction, observer)\n",
    "print(\"MESSENGER VELOCITY (m/s): {} {} {}\".format(messenger_state[3]*1000, messenger_state[4]*1000, messenger_state[5]*1000))"
   ]
  },
  {
   "cell_type": "code",
   "execution_count": null,
   "metadata": {
    "collapsed": true
   },
   "outputs": [],
   "source": []
  }
 ],
 "metadata": {
  "kernelspec": {
   "display_name": "Python 3",
   "language": "python",
   "name": "python3"
  },
  "language_info": {
   "codemirror_mode": {
    "name": "ipython",
    "version": 3
   },
   "file_extension": ".py",
   "mimetype": "text/x-python",
   "name": "python",
   "nbconvert_exporter": "python",
   "pygments_lexer": "ipython3",
   "version": "3.4.3"
  }
 },
 "nbformat": 4,
 "nbformat_minor": 1
}
